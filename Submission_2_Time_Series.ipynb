{
  "nbformat": 4,
  "nbformat_minor": 0,
  "metadata": {
    "colab": {
      "name": "Submission 2 Time Series.ipynb",
      "provenance": [],
      "mount_file_id": "1ePmFUaCXZgGNS_NlfLHjuF_zi5pRBxbq",
      "authorship_tag": "ABX9TyMcpxGYwBNp4LHjrdRzhYkr",
      "include_colab_link": true
    },
    "kernelspec": {
      "display_name": "Python 3",
      "name": "python3"
    },
    "language_info": {
      "name": "python"
    }
  },
  "cells": [
    {
      "cell_type": "markdown",
      "metadata": {
        "id": "view-in-github",
        "colab_type": "text"
      },
      "source": [
        "<a href=\"https://colab.research.google.com/github/ilhamAdhim/Dicoding---Belajar-Pengembangan-Machine-Learning/blob/main/Submission_2_Time_Series.ipynb\" target=\"_parent\"><img src=\"https://colab.research.google.com/assets/colab-badge.svg\" alt=\"Open In Colab\"/></a>"
      ]
    },
    {
      "cell_type": "markdown",
      "metadata": {
        "id": "6Gb4WEVAZ958"
      },
      "source": [
        "**Muhammad Ilham Adhim** <br>\n",
        "Submission 2 Time Series <br>\n",
        "Dataset : https://www.kaggle.com/szrlee/stock-time-series-20050101-to-20171231?select=AABA_2006-01-01_to_2018-01-01.csv"
      ]
    },
    {
      "cell_type": "code",
      "metadata": {
        "id": "1K_kAkBXZdUw"
      },
      "source": [
        "# Import all required libraries\n",
        "import numpy as np\n",
        "import pandas as pd\n",
        "import tensorflow as tf\n",
        "import matplotlib.pyplot as plt\n",
        "\n",
        "# Importing layers from keras. Use LSTM for input layer, and Dense for hidden and output layer\n",
        "from keras.layers import Dense, LSTM, Dropout, Bidirectional \n",
        "from keras.models import Sequential\n",
        "\n",
        "# Import SGD Optimizers\n",
        "from tensorflow.keras.optimizers import SGD\n",
        "\n",
        "# Import for splitting test and training data set\n",
        "from sklearn.model_selection import train_test_split"
      ],
      "execution_count": 1,
      "outputs": []
    },
    {
      "cell_type": "code",
      "metadata": {
        "colab": {
          "base_uri": "https://localhost:8080/"
        },
        "id": "XTv16im6aHgS",
        "outputId": "87a178b5-0982-46cf-840f-35f11b5a8028"
      },
      "source": [
        "#  Data AABA, provided are from 2006-01-01 to 2018-01-01\n",
        "df = pd.read_csv('/content/drive/MyDrive/Dicoding - NLP - Sentiment Analysis /Submission 2/AABA_2006-01-01_to_2018-01-01.csv')\n",
        "\n",
        "print(\"Total Data : {} \\n\".format(len(df)))\n",
        "print(\"Date range from : {} to {}\".format(df.head(1)['Date'].values, df.tail(1)['Date'].values))"
      ],
      "execution_count": 2,
      "outputs": [
        {
          "output_type": "stream",
          "name": "stdout",
          "text": [
            "Total Data : 3019 \n",
            "\n",
            "Date range from : ['2006-01-03'] to ['2017-12-29']\n"
          ]
        }
      ]
    },
    {
      "cell_type": "code",
      "metadata": {
        "colab": {
          "base_uri": "https://localhost:8080/",
          "height": 357
        },
        "id": "eFuidONXrpp_",
        "outputId": "d77e72d7-f153-4da1-8916-a2d2d15b84db"
      },
      "source": [
        "# Display 10 latest data to check the latest date\n",
        "df.tail(10)"
      ],
      "execution_count": 3,
      "outputs": [
        {
          "output_type": "execute_result",
          "data": {
            "text/html": [
              "<div>\n",
              "<style scoped>\n",
              "    .dataframe tbody tr th:only-of-type {\n",
              "        vertical-align: middle;\n",
              "    }\n",
              "\n",
              "    .dataframe tbody tr th {\n",
              "        vertical-align: top;\n",
              "    }\n",
              "\n",
              "    .dataframe thead th {\n",
              "        text-align: right;\n",
              "    }\n",
              "</style>\n",
              "<table border=\"1\" class=\"dataframe\">\n",
              "  <thead>\n",
              "    <tr style=\"text-align: right;\">\n",
              "      <th></th>\n",
              "      <th>Date</th>\n",
              "      <th>Open</th>\n",
              "      <th>High</th>\n",
              "      <th>Low</th>\n",
              "      <th>Close</th>\n",
              "      <th>Volume</th>\n",
              "      <th>Name</th>\n",
              "    </tr>\n",
              "  </thead>\n",
              "  <tbody>\n",
              "    <tr>\n",
              "      <th>3009</th>\n",
              "      <td>2017-12-15</td>\n",
              "      <td>69.35</td>\n",
              "      <td>70.54</td>\n",
              "      <td>68.66</td>\n",
              "      <td>70.29</td>\n",
              "      <td>19517623</td>\n",
              "      <td>AABA</td>\n",
              "    </tr>\n",
              "    <tr>\n",
              "      <th>3010</th>\n",
              "      <td>2017-12-18</td>\n",
              "      <td>70.54</td>\n",
              "      <td>70.74</td>\n",
              "      <td>69.95</td>\n",
              "      <td>70.14</td>\n",
              "      <td>6776982</td>\n",
              "      <td>AABA</td>\n",
              "    </tr>\n",
              "    <tr>\n",
              "      <th>3011</th>\n",
              "      <td>2017-12-19</td>\n",
              "      <td>69.70</td>\n",
              "      <td>70.36</td>\n",
              "      <td>69.38</td>\n",
              "      <td>70.21</td>\n",
              "      <td>14654994</td>\n",
              "      <td>AABA</td>\n",
              "    </tr>\n",
              "    <tr>\n",
              "      <th>3012</th>\n",
              "      <td>2017-12-20</td>\n",
              "      <td>70.60</td>\n",
              "      <td>71.05</td>\n",
              "      <td>70.17</td>\n",
              "      <td>70.90</td>\n",
              "      <td>12888149</td>\n",
              "      <td>AABA</td>\n",
              "    </tr>\n",
              "    <tr>\n",
              "      <th>3013</th>\n",
              "      <td>2017-12-21</td>\n",
              "      <td>71.00</td>\n",
              "      <td>72.17</td>\n",
              "      <td>70.88</td>\n",
              "      <td>71.59</td>\n",
              "      <td>9682733</td>\n",
              "      <td>AABA</td>\n",
              "    </tr>\n",
              "    <tr>\n",
              "      <th>3014</th>\n",
              "      <td>2017-12-22</td>\n",
              "      <td>71.42</td>\n",
              "      <td>71.87</td>\n",
              "      <td>71.22</td>\n",
              "      <td>71.58</td>\n",
              "      <td>10979165</td>\n",
              "      <td>AABA</td>\n",
              "    </tr>\n",
              "    <tr>\n",
              "      <th>3015</th>\n",
              "      <td>2017-12-26</td>\n",
              "      <td>70.94</td>\n",
              "      <td>71.39</td>\n",
              "      <td>69.63</td>\n",
              "      <td>69.86</td>\n",
              "      <td>8542802</td>\n",
              "      <td>AABA</td>\n",
              "    </tr>\n",
              "    <tr>\n",
              "      <th>3016</th>\n",
              "      <td>2017-12-27</td>\n",
              "      <td>69.77</td>\n",
              "      <td>70.49</td>\n",
              "      <td>69.69</td>\n",
              "      <td>70.06</td>\n",
              "      <td>6345124</td>\n",
              "      <td>AABA</td>\n",
              "    </tr>\n",
              "    <tr>\n",
              "      <th>3017</th>\n",
              "      <td>2017-12-28</td>\n",
              "      <td>70.12</td>\n",
              "      <td>70.32</td>\n",
              "      <td>69.51</td>\n",
              "      <td>69.82</td>\n",
              "      <td>7556877</td>\n",
              "      <td>AABA</td>\n",
              "    </tr>\n",
              "    <tr>\n",
              "      <th>3018</th>\n",
              "      <td>2017-12-29</td>\n",
              "      <td>69.79</td>\n",
              "      <td>70.13</td>\n",
              "      <td>69.43</td>\n",
              "      <td>69.85</td>\n",
              "      <td>6613070</td>\n",
              "      <td>AABA</td>\n",
              "    </tr>\n",
              "  </tbody>\n",
              "</table>\n",
              "</div>"
            ],
            "text/plain": [
              "            Date   Open   High    Low  Close    Volume  Name\n",
              "3009  2017-12-15  69.35  70.54  68.66  70.29  19517623  AABA\n",
              "3010  2017-12-18  70.54  70.74  69.95  70.14   6776982  AABA\n",
              "3011  2017-12-19  69.70  70.36  69.38  70.21  14654994  AABA\n",
              "3012  2017-12-20  70.60  71.05  70.17  70.90  12888149  AABA\n",
              "3013  2017-12-21  71.00  72.17  70.88  71.59   9682733  AABA\n",
              "3014  2017-12-22  71.42  71.87  71.22  71.58  10979165  AABA\n",
              "3015  2017-12-26  70.94  71.39  69.63  69.86   8542802  AABA\n",
              "3016  2017-12-27  69.77  70.49  69.69  70.06   6345124  AABA\n",
              "3017  2017-12-28  70.12  70.32  69.51  69.82   7556877  AABA\n",
              "3018  2017-12-29  69.79  70.13  69.43  69.85   6613070  AABA"
            ]
          },
          "metadata": {},
          "execution_count": 3
        }
      ]
    },
    {
      "cell_type": "code",
      "metadata": {
        "colab": {
          "base_uri": "https://localhost:8080/",
          "height": 417
        },
        "id": "5TQf_FIoa0gJ",
        "outputId": "f1c2eb77-879b-47d5-d288-12d4a2a1ce51"
      },
      "source": [
        "# Drop unused columns for this submission\n",
        "df_new = df.drop(['Open', 'High', 'Low', 'Volume', 'Name'], axis='columns')\n",
        "# Display final dataframe, this will be used in further process\n",
        "df_new"
      ],
      "execution_count": 4,
      "outputs": [
        {
          "output_type": "execute_result",
          "data": {
            "text/html": [
              "<div>\n",
              "<style scoped>\n",
              "    .dataframe tbody tr th:only-of-type {\n",
              "        vertical-align: middle;\n",
              "    }\n",
              "\n",
              "    .dataframe tbody tr th {\n",
              "        vertical-align: top;\n",
              "    }\n",
              "\n",
              "    .dataframe thead th {\n",
              "        text-align: right;\n",
              "    }\n",
              "</style>\n",
              "<table border=\"1\" class=\"dataframe\">\n",
              "  <thead>\n",
              "    <tr style=\"text-align: right;\">\n",
              "      <th></th>\n",
              "      <th>Date</th>\n",
              "      <th>Close</th>\n",
              "    </tr>\n",
              "  </thead>\n",
              "  <tbody>\n",
              "    <tr>\n",
              "      <th>0</th>\n",
              "      <td>2006-01-03</td>\n",
              "      <td>40.91</td>\n",
              "    </tr>\n",
              "    <tr>\n",
              "      <th>1</th>\n",
              "      <td>2006-01-04</td>\n",
              "      <td>40.97</td>\n",
              "    </tr>\n",
              "    <tr>\n",
              "      <th>2</th>\n",
              "      <td>2006-01-05</td>\n",
              "      <td>41.53</td>\n",
              "    </tr>\n",
              "    <tr>\n",
              "      <th>3</th>\n",
              "      <td>2006-01-06</td>\n",
              "      <td>43.21</td>\n",
              "    </tr>\n",
              "    <tr>\n",
              "      <th>4</th>\n",
              "      <td>2006-01-09</td>\n",
              "      <td>43.42</td>\n",
              "    </tr>\n",
              "    <tr>\n",
              "      <th>...</th>\n",
              "      <td>...</td>\n",
              "      <td>...</td>\n",
              "    </tr>\n",
              "    <tr>\n",
              "      <th>3014</th>\n",
              "      <td>2017-12-22</td>\n",
              "      <td>71.58</td>\n",
              "    </tr>\n",
              "    <tr>\n",
              "      <th>3015</th>\n",
              "      <td>2017-12-26</td>\n",
              "      <td>69.86</td>\n",
              "    </tr>\n",
              "    <tr>\n",
              "      <th>3016</th>\n",
              "      <td>2017-12-27</td>\n",
              "      <td>70.06</td>\n",
              "    </tr>\n",
              "    <tr>\n",
              "      <th>3017</th>\n",
              "      <td>2017-12-28</td>\n",
              "      <td>69.82</td>\n",
              "    </tr>\n",
              "    <tr>\n",
              "      <th>3018</th>\n",
              "      <td>2017-12-29</td>\n",
              "      <td>69.85</td>\n",
              "    </tr>\n",
              "  </tbody>\n",
              "</table>\n",
              "<p>3019 rows × 2 columns</p>\n",
              "</div>"
            ],
            "text/plain": [
              "            Date  Close\n",
              "0     2006-01-03  40.91\n",
              "1     2006-01-04  40.97\n",
              "2     2006-01-05  41.53\n",
              "3     2006-01-06  43.21\n",
              "4     2006-01-09  43.42\n",
              "...          ...    ...\n",
              "3014  2017-12-22  71.58\n",
              "3015  2017-12-26  69.86\n",
              "3016  2017-12-27  70.06\n",
              "3017  2017-12-28  69.82\n",
              "3018  2017-12-29  69.85\n",
              "\n",
              "[3019 rows x 2 columns]"
            ]
          },
          "metadata": {},
          "execution_count": 4
        }
      ]
    },
    {
      "cell_type": "code",
      "metadata": {
        "colab": {
          "base_uri": "https://localhost:8080/"
        },
        "id": "d0fH5qnZRZTl",
        "outputId": "d4e787ad-673a-43d2-8069-bd0cc01ef695"
      },
      "source": [
        "# Checking if there is any null values in the dataframe\n",
        "if(df.isnull().sum()['Date'] == 0 and df.isnull().sum()['Close'] == 0):\n",
        "  print(\"There is no null value, please continue\")"
      ],
      "execution_count": 5,
      "outputs": [
        {
          "output_type": "stream",
          "name": "stdout",
          "text": [
            "There is no null value, please continue\n"
          ]
        }
      ]
    },
    {
      "cell_type": "code",
      "metadata": {
        "colab": {
          "base_uri": "https://localhost:8080/",
          "height": 338
        },
        "id": "0Q3_DqNXv8p-",
        "outputId": "c4c4536f-798c-436d-b78c-845f3d71f98a"
      },
      "source": [
        "date_selected = df_new['Date'].values\n",
        "close_val = df_new['Close'].values\n",
        "\n",
        "# Look at the trend of AABA Close value by displaying it as a plot image\n",
        "plt.figure(figsize=(15,5))\n",
        "plt.plot(date_selected, close_val)\n",
        "plt.title('AABA Close value',fontsize=15);"
      ],
      "execution_count": 6,
      "outputs": [
        {
          "output_type": "display_data",
          "data": {
            "image/png": "[encoded data removed]",
            "text/plain": [
              "<Figure size 1080x360 with 1 Axes>"
            ]
          },
          "metadata": {
            "needs_background": "light"
          }
        }
      ]
    },
    {
      "cell_type": "code",
      "metadata": {
        "id": "oVVusos-c3IJ"
      },
      "source": [
        "def windowed_dataset(series, shuffle_buffer, window_size = 40, batch_size = 100):\n",
        "    series = tf.expand_dims(series, axis=-1)\n",
        "    ds = tf.data.Dataset.from_tensor_slices(series)\n",
        "    ds = ds.window(window_size + 1, shift=1, drop_remainder=True)\n",
        "    ds = ds.flat_map(lambda w: w.batch(window_size + 1))\n",
        "    ds = ds.shuffle(shuffle_buffer)\n",
        "    ds = ds.map(lambda w: (w[:-1], w[-1:]))\n",
        "    return ds.batch(batch_size).prefetch(1)"
      ],
      "execution_count": 7,
      "outputs": []
    },
    {
      "cell_type": "code",
      "metadata": {
        "id": "_0cxPa--VzSl"
      },
      "source": [
        "# Splitting dataset to 80% Data Test and 20% Data Train\n",
        "train_date, test_date, train_close, test_close = train_test_split(date_selected, close_val, test_size=0.2, shuffle=False)\n",
        "\n",
        "# Call the windowed dataset function with splitted data\n",
        "train_set = windowed_dataset(train_close, shuffle_buffer=1000)\n",
        "test_set = windowed_dataset(test_close, shuffle_buffer=1000)"
      ],
      "execution_count": 8,
      "outputs": []
    },
    {
      "cell_type": "code",
      "metadata": {
        "id": "46-2AMdBdIQI"
      },
      "source": [
        "# Arsitektur Model\n",
        "model = Sequential([\n",
        "  LSTM(60, return_sequences=True),\n",
        "  LSTM(60),\n",
        "  Dropout(0.2),\n",
        "  Dense(120, activation='relu'),\n",
        "  Dense(60, activation=\"relu\"),\n",
        "  Dense(30, activation=\"relu\"),\n",
        "  Dense(1),\n",
        "])"
      ],
      "execution_count": 17,
      "outputs": []
    },
    {
      "cell_type": "code",
      "metadata": {
        "id": "RuR2iQxHdKjc"
      },
      "source": [
        "# Setting optimizer SGD Optimizer and learning rate\n",
        "optimizer = SGD(learning_rate=1.0000e-03, momentum=0.9)\n",
        "\n",
        "# Compile model with Huber and MAE (Mean Absolute Error) metrics\n",
        "model.compile(\n",
        "    loss=tf.keras.losses.Huber(),\n",
        "    optimizer=optimizer,\n",
        "    metrics=[\"mae\"])              "
      ],
      "execution_count": 18,
      "outputs": []
    },
    {
      "cell_type": "code",
      "metadata": {
        "id": "Abmzv-x7Qizs"
      },
      "source": [
        "# Create callback function to stop data training once the target MAE has been fulfilled\n",
        "class myCallback(tf.keras.callbacks.Callback):\n",
        "  def on_epoch_end(self, epoch, logs={}):\n",
        "    if (logs.get('mae')<10) and (logs.get('val_mae')<10):\n",
        "      print('\\nMAE is lesser than 10%!')\n",
        "      print('\\nStop training model...')\n",
        "      self.model.stop_training = True\n",
        "\n",
        "# Inisiasi class myCallback ke dalam variable callbacks\n",
        "custom_callback = myCallback()"
      ],
      "execution_count": 19,
      "outputs": []
    },
    {
      "cell_type": "code",
      "metadata": {
        "colab": {
          "base_uri": "https://localhost:8080/"
        },
        "id": "gDSYzRKRrKwe",
        "outputId": "ffd851c9-92d1-4ebc-ea2d-cf8880bf3042"
      },
      "source": [
        "# Training Model and save it to history variable.\n",
        "history = model.fit(train_set, epochs=50, validation_data=test_set, callbacks=custom_callback)"
      ],
      "execution_count": 20,
      "outputs": [
        {
          "output_type": "stream",
          "name": "stdout",
          "text": [
            "Epoch 1/50\n",
            "24/24 [==============================] - 7s 122ms/step - loss: 23.4148 - mae: 23.9148 - val_loss: 44.3774 - val_mae: 44.8774\n",
            "Epoch 2/50\n",
            "24/24 [==============================] - 2s 89ms/step - loss: 22.0037 - mae: 22.5037 - val_loss: 41.1799 - val_mae: 41.6799\n",
            "Epoch 3/50\n",
            "24/24 [==============================] - 2s 91ms/step - loss: 11.6346 - mae: 12.1278 - val_loss: 14.3838 - val_mae: 14.8787\n",
            "Epoch 4/50\n",
            "24/24 [==============================] - 2s 91ms/step - loss: 8.5173 - mae: 9.0017 - val_loss: 12.8769 - val_mae: 13.3673\n",
            "Epoch 5/50\n",
            "24/24 [==============================] - 2s 90ms/step - loss: 8.3702 - mae: 8.8542 - val_loss: 11.8217 - val_mae: 12.3052\n",
            "Epoch 6/50\n",
            "24/24 [==============================] - 2s 89ms/step - loss: 8.6641 - mae: 9.1510 - val_loss: 11.0373 - val_mae: 11.5266\n",
            "Epoch 7/50\n",
            "24/24 [==============================] - 2s 88ms/step - loss: 8.7849 - mae: 9.2726 - val_loss: 10.9057 - val_mae: 11.3950\n",
            "Epoch 8/50\n",
            "24/24 [==============================] - 2s 91ms/step - loss: 8.7502 - mae: 9.2379 - val_loss: 11.3941 - val_mae: 11.8799\n",
            "Epoch 9/50\n",
            "24/24 [==============================] - 2s 90ms/step - loss: 8.1792 - mae: 8.6645 - val_loss: 10.9911 - val_mae: 11.4790\n",
            "Epoch 10/50\n",
            "24/24 [==============================] - 2s 92ms/step - loss: 7.1688 - mae: 7.6526 - val_loss: 10.9570 - val_mae: 11.4423\n",
            "Epoch 11/50\n",
            "24/24 [==============================] - 2s 91ms/step - loss: 6.5093 - mae: 6.9924 - val_loss: 12.5502 - val_mae: 13.0449\n",
            "Epoch 12/50\n",
            "24/24 [==============================] - 2s 90ms/step - loss: 4.9812 - mae: 5.4577 - val_loss: 13.4159 - val_mae: 13.9158\n",
            "Epoch 13/50\n",
            "24/24 [==============================] - 2s 91ms/step - loss: 1.5411 - mae: 1.9782 - val_loss: 4.3304 - val_mae: 4.7713\n",
            "\n",
            "MAE is lesser than 10%!\n",
            "\n",
            "Stop training model...\n"
          ]
        }
      ]
    },
    {
      "cell_type": "code",
      "metadata": {
        "colab": {
          "base_uri": "https://localhost:8080/"
        },
        "id": "owAWF25oxULm",
        "outputId": "713a2914-5ab2-4e02-8ee2-39269f3b4e22"
      },
      "source": [
        "# Testing the forecasting accuracy\n",
        "\n",
        "results = model.evaluate(test_set)\n",
        "print(\"Result of  [val_loss,val_mae] for test data:\")\n",
        "print(results)"
      ],
      "execution_count": 21,
      "outputs": [
        {
          "output_type": "stream",
          "name": "stdout",
          "text": [
            "6/6 [==============================] - 0s 28ms/step - loss: 4.3304 - mae: 4.7713\n",
            "Result of  [val_loss,val_mae] for test data:\n",
            "[4.330423355102539, 4.7713470458984375]\n"
          ]
        }
      ]
    },
    {
      "cell_type": "code",
      "metadata": {
        "colab": {
          "base_uri": "https://localhost:8080/",
          "height": 295
        },
        "id": "44_xBkCVxmZm",
        "outputId": "c0c6d662-9511-49e2-d0b2-1a89c2d388ef"
      },
      "source": [
        "# Create plot for mae and val_mae\n",
        "plt.plot(history.history['mae'])\n",
        "plt.plot(history.history['val_mae'], 'r')\n",
        "plt.title('Training and Testing MAE Value')\n",
        "plt.xlabel('epoch')\n",
        "plt.legend(['Training MAE', 'Testing MAE'], loc='upper right')\n",
        "plt.show()"
      ],
      "execution_count": 22,
      "outputs": [
        {
          "output_type": "display_data",
          "data": {
            "image/png": "[encoded data removed]",
            "text/plain": [
              "<Figure size 432x288 with 1 Axes>"
            ]
          },
          "metadata": {
            "needs_background": "light"
          }
        }
      ]
    },
    {
      "cell_type": "code",
      "metadata": {
        "colab": {
          "base_uri": "https://localhost:8080/",
          "height": 295
        },
        "id": "kE_7nnuwxwBm",
        "outputId": "7ee38d18-85d1-4dc2-d89b-65b846906e74"
      },
      "source": [
        "# Create plot for loss and val_loss\n",
        "plt.plot(history.history['loss'])\n",
        "plt.plot(history.history['val_loss'])\n",
        "plt.title('Training and Testing Loss Value')\n",
        "plt.xlabel('epoch')\n",
        "plt.legend(['Training Loss', 'Testing Loss'], loc='upper right')\n",
        "plt.show()"
      ],
      "execution_count": 23,
      "outputs": [
        {
          "output_type": "display_data",
          "data": {
            "image/png": "[encoded data removed]",
            "text/plain": [
              "<Figure size 432x288 with 1 Axes>"
            ]
          },
          "metadata": {
            "needs_background": "light"
          }
        }
      ]
    }
  ]
}
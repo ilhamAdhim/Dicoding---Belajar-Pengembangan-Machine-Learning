{
  "nbformat": 4,
  "nbformat_minor": 0,
  "metadata": {
    "colab": {
      "name": "Submission 1 NLP - M Ilham Adhim.ipynb",
      "provenance": [],
      "collapsed_sections": [],
      "mount_file_id": "1OH8adm8eOx-A17XEl8c0aW2CukwDYuy-",
      "authorship_tag": "ABX9TyOBYuoC1kXqMY9RNt+6uxv0"
    },
    "kernelspec": {
      "name": "python3",
      "display_name": "Python 3"
    },
    "language_info": {
      "name": "python"
    }
  },
  "cells": [
    {
      "cell_type": "markdown",
      "metadata": {
        "id": "fyvlHCHGnRFl"
      },
      "source": [
        "**By Muhammad Ilham Adhim** <br>\n",
        "Submission 1 - NLP Dataset Movies <br>\n",
        "Data source : https://www.kaggle.com/lokkagle/movie-genre-data"
      ]
    },
    {
      "cell_type": "code",
      "metadata": {
        "id": "vD4zQde2zdv6"
      },
      "source": [
        "# Read the dataset file by connecting to google drive\n",
        "from google.colab import drive\n",
        "\n",
        "# To build dataframe from a file (in this case, csv file)\n",
        "import pandas as pd\n",
        "\n",
        "# To create data visualization\n",
        "import matplotlib.pyplot as plt\n",
        "\n",
        "# To perform data splitting\n",
        "from sklearn.model_selection import train_test_split\n",
        "\n",
        "# To preprocess the text and model creation\n",
        "import tensorflow as tf\n",
        "from tensorflow.keras.preprocessing.text import Tokenizer\n",
        "from tensorflow.keras.preprocessing.sequence import pad_sequences\n",
        "from tensorflow.keras.models import Sequential\n",
        "from tensorflow.keras import regularizers\n",
        "from tensorflow.keras.optimizers import Adam\n",
        "from tensorflow.keras.layers import LSTM,Dense,Embedding,Dropout,BatchNormalization\n",
        "\n",
        "import re\n",
        "\n",
        "import nltk as nltk\n",
        "from nltk import corpus"
      ],
      "execution_count": 1,
      "outputs": []
    },
    {
      "cell_type": "code",
      "metadata": {
        "colab": {
          "base_uri": "https://localhost:8080/",
          "height": 203
        },
        "id": "_ZGwljqcdDZE",
        "outputId": "66b5f1b9-259d-4de3-d5f6-e8c5794fe456"
      },
      "source": [
        "data = pd.read_csv(\"/content/drive/MyDrive/Dicoding - NLP - Sentiment Analysis /Submission 1/kaggle_movie_train.csv\")\n",
        "\n",
        "# Only get text and genre columns\n",
        "df = pd.DataFrame(data, columns=[\"text\", \"genre\"])\n",
        "df.tail()"
      ],
      "execution_count": 2,
      "outputs": [
        {
          "output_type": "execute_result",
          "data": {
            "text/html": [
              "<div>\n",
              "<style scoped>\n",
              "    .dataframe tbody tr th:only-of-type {\n",
              "        vertical-align: middle;\n",
              "    }\n",
              "\n",
              "    .dataframe tbody tr th {\n",
              "        vertical-align: top;\n",
              "    }\n",
              "\n",
              "    .dataframe thead th {\n",
              "        text-align: right;\n",
              "    }\n",
              "</style>\n",
              "<table border=\"1\" class=\"dataframe\">\n",
              "  <thead>\n",
              "    <tr style=\"text-align: right;\">\n",
              "      <th></th>\n",
              "      <th>text</th>\n",
              "      <th>genre</th>\n",
              "    </tr>\n",
              "  </thead>\n",
              "  <tbody>\n",
              "    <tr>\n",
              "      <th>22574</th>\n",
              "      <td>n in the world to decide what I'm going to do ...</td>\n",
              "      <td>drama</td>\n",
              "    </tr>\n",
              "    <tr>\n",
              "      <th>22575</th>\n",
              "      <td>shards. BOJO LAZ! Laz pushes Deke back through...</td>\n",
              "      <td>drama</td>\n",
              "    </tr>\n",
              "    <tr>\n",
              "      <th>22576</th>\n",
              "      <td>OTTIE You've got a thing about Ernie's, haven'...</td>\n",
              "      <td>thriller</td>\n",
              "    </tr>\n",
              "    <tr>\n",
              "      <th>22577</th>\n",
              "      <td>....with marked skill and dexterity . LANA wry...</td>\n",
              "      <td>action</td>\n",
              "    </tr>\n",
              "    <tr>\n",
              "      <th>22578</th>\n",
              "      <td>rd walks off down the hallway, leaving his pos...</td>\n",
              "      <td>comedy</td>\n",
              "    </tr>\n",
              "  </tbody>\n",
              "</table>\n",
              "</div>"
            ],
            "text/plain": [
              "                                                    text     genre\n",
              "22574  n in the world to decide what I'm going to do ...     drama\n",
              "22575  shards. BOJO LAZ! Laz pushes Deke back through...     drama\n",
              "22576  OTTIE You've got a thing about Ernie's, haven'...  thriller\n",
              "22577  ....with marked skill and dexterity . LANA wry...    action\n",
              "22578  rd walks off down the hallway, leaving his pos...    comedy"
            ]
          },
          "metadata": {},
          "execution_count": 2
        }
      ]
    },
    {
      "cell_type": "code",
      "metadata": {
        "colab": {
          "base_uri": "https://localhost:8080/"
        },
        "id": "UTm7_5wvdXRa",
        "outputId": "c8f75cab-2cfd-49f1-faa5-1033ca1074cd"
      },
      "source": [
        "# List some genres that will be excluded\n",
        "removeGenres = ['drama','thriller','other','adventure','romance']\n",
        "\n",
        "# Actually remove the rows that contains those genres\n",
        "df = df[~df['genre'].isin(removeGenres)]\n",
        "print(\"===============\")\n",
        "print(\"Genres distributions : \\n{}\".format(df['genre'].value_counts()))"
      ],
      "execution_count": 3,
      "outputs": [
        {
          "output_type": "stream",
          "name": "stdout",
          "text": [
            "===============\n",
            "Genres distributions : \n",
            "comedy    2941\n",
            "action    2392\n",
            "sci-fi     613\n",
            "horror     456\n",
            "Name: genre, dtype: int64\n"
          ]
        }
      ]
    },
    {
      "cell_type": "code",
      "metadata": {
        "colab": {
          "base_uri": "https://localhost:8080/",
          "height": 203
        },
        "id": "Vex_q9sjeTTS",
        "outputId": "923537f6-9571-4352-d6d3-24aa83ee6297"
      },
      "source": [
        "genre = pd.get_dummies(df.genre)\n",
        "df_new = pd.concat([df, genre], axis=1)\n",
        "df_new = df_new.drop(columns='genre')\n",
        "df_new.head()"
      ],
      "execution_count": 4,
      "outputs": [
        {
          "output_type": "execute_result",
          "data": {
            "text/html": [
              "<div>\n",
              "<style scoped>\n",
              "    .dataframe tbody tr th:only-of-type {\n",
              "        vertical-align: middle;\n",
              "    }\n",
              "\n",
              "    .dataframe tbody tr th {\n",
              "        vertical-align: top;\n",
              "    }\n",
              "\n",
              "    .dataframe thead th {\n",
              "        text-align: right;\n",
              "    }\n",
              "</style>\n",
              "<table border=\"1\" class=\"dataframe\">\n",
              "  <thead>\n",
              "    <tr style=\"text-align: right;\">\n",
              "      <th></th>\n",
              "      <th>text</th>\n",
              "      <th>action</th>\n",
              "      <th>comedy</th>\n",
              "      <th>horror</th>\n",
              "      <th>sci-fi</th>\n",
              "    </tr>\n",
              "  </thead>\n",
              "  <tbody>\n",
              "    <tr>\n",
              "      <th>1</th>\n",
              "      <td>t, summa cum laude and all. And I'm about to l...</td>\n",
              "      <td>0</td>\n",
              "      <td>1</td>\n",
              "      <td>0</td>\n",
              "      <td>0</td>\n",
              "    </tr>\n",
              "    <tr>\n",
              "      <th>9</th>\n",
              "      <td>e reels as the world spins. Sweat pours off hi...</td>\n",
              "      <td>1</td>\n",
              "      <td>0</td>\n",
              "      <td>0</td>\n",
              "      <td>0</td>\n",
              "    </tr>\n",
              "    <tr>\n",
              "      <th>20</th>\n",
              "      <td>I say he's a man who'll go far. Some people s...</td>\n",
              "      <td>0</td>\n",
              "      <td>1</td>\n",
              "      <td>0</td>\n",
              "      <td>0</td>\n",
              "    </tr>\n",
              "    <tr>\n",
              "      <th>25</th>\n",
              "      <td>you find out where the bachelor party is? COLE...</td>\n",
              "      <td>0</td>\n",
              "      <td>1</td>\n",
              "      <td>0</td>\n",
              "      <td>0</td>\n",
              "    </tr>\n",
              "    <tr>\n",
              "      <th>29</th>\n",
              "      <td>ibly horrendous public break up on the quad. A...</td>\n",
              "      <td>0</td>\n",
              "      <td>1</td>\n",
              "      <td>0</td>\n",
              "      <td>0</td>\n",
              "    </tr>\n",
              "  </tbody>\n",
              "</table>\n",
              "</div>"
            ],
            "text/plain": [
              "                                                 text  action  ...  horror  sci-fi\n",
              "1   t, summa cum laude and all. And I'm about to l...       0  ...       0       0\n",
              "9   e reels as the world spins. Sweat pours off hi...       1  ...       0       0\n",
              "20   I say he's a man who'll go far. Some people s...       0  ...       0       0\n",
              "25  you find out where the bachelor party is? COLE...       0  ...       0       0\n",
              "29  ibly horrendous public break up on the quad. A...       0  ...       0       0\n",
              "\n",
              "[5 rows x 5 columns]"
            ]
          },
          "metadata": {},
          "execution_count": 4
        }
      ]
    },
    {
      "cell_type": "code",
      "metadata": {
        "colab": {
          "base_uri": "https://localhost:8080/"
        },
        "id": "F4L3Sxt9eXVh",
        "outputId": "019060e7-74cb-49ec-84e1-7c7413c5764f"
      },
      "source": [
        "# Check if there is any null value in dataframe\n",
        "df.isnull().values.any()"
      ],
      "execution_count": null,
      "outputs": [
        {
          "output_type": "execute_result",
          "data": {
            "text/plain": [
              "False"
            ]
          },
          "metadata": {},
          "execution_count": 140
        }
      ]
    },
    {
      "cell_type": "code",
      "metadata": {
        "colab": {
          "base_uri": "https://localhost:8080/"
        },
        "id": "-NszfF_-iGoP",
        "outputId": "c8e239e0-c2d4-421f-93ee-978e3a0d78ae"
      },
      "source": [
        "nltk.download('stopwords')\n",
        "stopword = nltk.corpus.stopwords.words('english')\n",
        "print(\"\\nWords that will be removed from dataframe : {}\".format(stopword[:20]))\n",
        "\n",
        "def remove_stopwords(text):\n",
        "    text=[word for word in text if word not in stopword]\n",
        "    return text\n",
        "\n",
        "def split_text(text):\n",
        "  split=re.split(\"\\W+\",text)\n",
        "  return split"
      ],
      "execution_count": 5,
      "outputs": [
        {
          "output_type": "stream",
          "name": "stdout",
          "text": [
            "[nltk_data] Downloading package stopwords to /root/nltk_data...\n",
            "[nltk_data]   Package stopwords is already up-to-date!\n",
            "\n",
            "Words that will be removed from dataframe : ['i', 'me', 'my', 'myself', 'we', 'our', 'ours', 'ourselves', 'you', \"you're\", \"you've\", \"you'll\", \"you'd\", 'your', 'yours', 'yourself', 'yourselves', 'he', 'him', 'his']\n"
          ]
        }
      ]
    },
    {
      "cell_type": "code",
      "metadata": {
        "colab": {
          "base_uri": "https://localhost:8080/"
        },
        "id": "g-DSTW8eiO3v",
        "outputId": "aaa5e911-2ce6-4add-b974-ae7706dc3284"
      },
      "source": [
        "df_new['Text_split'] = df_new['text'].map(lambda x: split_text(x.lower()))\n",
        "df_new['Text_stopword'] = df_new['Text_split'].map(lambda x: remove_stopwords(x))\n",
        "df_new['Text_stopword']"
      ],
      "execution_count": 6,
      "outputs": [
        {
          "output_type": "execute_result",
          "data": {
            "text/plain": [
              "1        [summa, cum, laude, launch, brand, new, magazi...\n",
              "9        [e, reels, world, spins, sweat, pours, pressur...\n",
              "20       [, say, man, go, far, people, say, gone, far, ...\n",
              "25       [find, bachelor, party, cole, yes, mr, fine, e...\n",
              "29       [ibly, horrendous, public, break, quad, camero...\n",
              "                               ...                        \n",
              "22566    [knew, inhaling, bliss, selina, leans, back, w...\n",
              "22569    [cricket, running, road, dissolve, 53, ext, ba...\n",
              "22573    [, well, hello, officer, wydell, holding, badg...\n",
              "22577    [, marked, skill, dexterity, lana, wryly, surp...\n",
              "22578    [rd, walks, hallway, leaving, post, end, hallw...\n",
              "Name: Text_stopword, Length: 6402, dtype: object"
            ]
          },
          "metadata": {},
          "execution_count": 6
        }
      ]
    },
    {
      "cell_type": "code",
      "metadata": {
        "colab": {
          "base_uri": "https://localhost:8080/",
          "height": 417
        },
        "id": "38EwTFZwicFW",
        "outputId": "d36fdfe2-c5e8-4fa1-a81e-d559c54ca6f1"
      },
      "source": [
        "df_new"
      ],
      "execution_count": 7,
      "outputs": [
        {
          "output_type": "execute_result",
          "data": {
            "text/html": [
              "<div>\n",
              "<style scoped>\n",
              "    .dataframe tbody tr th:only-of-type {\n",
              "        vertical-align: middle;\n",
              "    }\n",
              "\n",
              "    .dataframe tbody tr th {\n",
              "        vertical-align: top;\n",
              "    }\n",
              "\n",
              "    .dataframe thead th {\n",
              "        text-align: right;\n",
              "    }\n",
              "</style>\n",
              "<table border=\"1\" class=\"dataframe\">\n",
              "  <thead>\n",
              "    <tr style=\"text-align: right;\">\n",
              "      <th></th>\n",
              "      <th>text</th>\n",
              "      <th>action</th>\n",
              "      <th>comedy</th>\n",
              "      <th>horror</th>\n",
              "      <th>sci-fi</th>\n",
              "      <th>Text_split</th>\n",
              "      <th>Text_stopword</th>\n",
              "    </tr>\n",
              "  </thead>\n",
              "  <tbody>\n",
              "    <tr>\n",
              "      <th>1</th>\n",
              "      <td>t, summa cum laude and all. And I'm about to l...</td>\n",
              "      <td>0</td>\n",
              "      <td>1</td>\n",
              "      <td>0</td>\n",
              "      <td>0</td>\n",
              "      <td>[t, summa, cum, laude, and, all, and, i, m, ab...</td>\n",
              "      <td>[summa, cum, laude, launch, brand, new, magazi...</td>\n",
              "    </tr>\n",
              "    <tr>\n",
              "      <th>9</th>\n",
              "      <td>e reels as the world spins. Sweat pours off hi...</td>\n",
              "      <td>1</td>\n",
              "      <td>0</td>\n",
              "      <td>0</td>\n",
              "      <td>0</td>\n",
              "      <td>[e, reels, as, the, world, spins, sweat, pours...</td>\n",
              "      <td>[e, reels, world, spins, sweat, pours, pressur...</td>\n",
              "    </tr>\n",
              "    <tr>\n",
              "      <th>20</th>\n",
              "      <td>I say he's a man who'll go far. Some people s...</td>\n",
              "      <td>0</td>\n",
              "      <td>1</td>\n",
              "      <td>0</td>\n",
              "      <td>0</td>\n",
              "      <td>[, i, say, he, s, a, man, who, ll, go, far, so...</td>\n",
              "      <td>[, say, man, go, far, people, say, gone, far, ...</td>\n",
              "    </tr>\n",
              "    <tr>\n",
              "      <th>25</th>\n",
              "      <td>you find out where the bachelor party is? COLE...</td>\n",
              "      <td>0</td>\n",
              "      <td>1</td>\n",
              "      <td>0</td>\n",
              "      <td>0</td>\n",
              "      <td>[you, find, out, where, the, bachelor, party, ...</td>\n",
              "      <td>[find, bachelor, party, cole, yes, mr, fine, e...</td>\n",
              "    </tr>\n",
              "    <tr>\n",
              "      <th>29</th>\n",
              "      <td>ibly horrendous public break up on the quad. A...</td>\n",
              "      <td>0</td>\n",
              "      <td>1</td>\n",
              "      <td>0</td>\n",
              "      <td>0</td>\n",
              "      <td>[ibly, horrendous, public, break, up, on, the,...</td>\n",
              "      <td>[ibly, horrendous, public, break, quad, camero...</td>\n",
              "    </tr>\n",
              "    <tr>\n",
              "      <th>...</th>\n",
              "      <td>...</td>\n",
              "      <td>...</td>\n",
              "      <td>...</td>\n",
              "      <td>...</td>\n",
              "      <td>...</td>\n",
              "      <td>...</td>\n",
              "      <td>...</td>\n",
              "    </tr>\n",
              "    <tr>\n",
              "      <th>22566</th>\n",
              "      <td>BUT THEN YOU KNEW THAT. Inhaling some bliss, S...</td>\n",
              "      <td>1</td>\n",
              "      <td>0</td>\n",
              "      <td>0</td>\n",
              "      <td>0</td>\n",
              "      <td>[but, then, you, knew, that, inhaling, some, b...</td>\n",
              "      <td>[knew, inhaling, bliss, selina, leans, back, w...</td>\n",
              "    </tr>\n",
              "    <tr>\n",
              "      <th>22569</th>\n",
              "      <td>d Cricket running down road. DISSOLVE TO 53. E...</td>\n",
              "      <td>0</td>\n",
              "      <td>0</td>\n",
              "      <td>0</td>\n",
              "      <td>1</td>\n",
              "      <td>[d, cricket, running, down, road, dissolve, to...</td>\n",
              "      <td>[cricket, running, road, dissolve, 53, ext, ba...</td>\n",
              "    </tr>\n",
              "    <tr>\n",
              "      <th>22573</th>\n",
              "      <td>Well hello, officer. WYDELL holding up his ba...</td>\n",
              "      <td>0</td>\n",
              "      <td>0</td>\n",
              "      <td>1</td>\n",
              "      <td>0</td>\n",
              "      <td>[, well, hello, officer, wydell, holding, up, ...</td>\n",
              "      <td>[, well, hello, officer, wydell, holding, badg...</td>\n",
              "    </tr>\n",
              "    <tr>\n",
              "      <th>22577</th>\n",
              "      <td>....with marked skill and dexterity . LANA wry...</td>\n",
              "      <td>1</td>\n",
              "      <td>0</td>\n",
              "      <td>0</td>\n",
              "      <td>0</td>\n",
              "      <td>[, with, marked, skill, and, dexterity, lana, ...</td>\n",
              "      <td>[, marked, skill, dexterity, lana, wryly, surp...</td>\n",
              "    </tr>\n",
              "    <tr>\n",
              "      <th>22578</th>\n",
              "      <td>rd walks off down the hallway, leaving his pos...</td>\n",
              "      <td>0</td>\n",
              "      <td>1</td>\n",
              "      <td>0</td>\n",
              "      <td>0</td>\n",
              "      <td>[rd, walks, off, down, the, hallway, leaving, ...</td>\n",
              "      <td>[rd, walks, hallway, leaving, post, end, hallw...</td>\n",
              "    </tr>\n",
              "  </tbody>\n",
              "</table>\n",
              "<p>6402 rows × 7 columns</p>\n",
              "</div>"
            ],
            "text/plain": [
              "                                                    text  ...                                      Text_stopword\n",
              "1      t, summa cum laude and all. And I'm about to l...  ...  [summa, cum, laude, launch, brand, new, magazi...\n",
              "9      e reels as the world spins. Sweat pours off hi...  ...  [e, reels, world, spins, sweat, pours, pressur...\n",
              "20      I say he's a man who'll go far. Some people s...  ...  [, say, man, go, far, people, say, gone, far, ...\n",
              "25     you find out where the bachelor party is? COLE...  ...  [find, bachelor, party, cole, yes, mr, fine, e...\n",
              "29     ibly horrendous public break up on the quad. A...  ...  [ibly, horrendous, public, break, quad, camero...\n",
              "...                                                  ...  ...                                                ...\n",
              "22566  BUT THEN YOU KNEW THAT. Inhaling some bliss, S...  ...  [knew, inhaling, bliss, selina, leans, back, w...\n",
              "22569  d Cricket running down road. DISSOLVE TO 53. E...  ...  [cricket, running, road, dissolve, 53, ext, ba...\n",
              "22573   Well hello, officer. WYDELL holding up his ba...  ...  [, well, hello, officer, wydell, holding, badg...\n",
              "22577  ....with marked skill and dexterity . LANA wry...  ...  [, marked, skill, dexterity, lana, wryly, surp...\n",
              "22578  rd walks off down the hallway, leaving his pos...  ...  [rd, walks, hallway, leaving, post, end, hallw...\n",
              "\n",
              "[6402 rows x 7 columns]"
            ]
          },
          "metadata": {},
          "execution_count": 7
        }
      ]
    },
    {
      "cell_type": "code",
      "metadata": {
        "id": "F5uxQXnZeaQ5"
      },
      "source": [
        "# Get all genres from columns and set it as label\n",
        "columnsGenre = list(df_new.columns)[1:-2]\n",
        "\n",
        "text = df_new['Text_stopword'].values\n",
        "label = df_new[columnsGenre].values"
      ],
      "execution_count": 9,
      "outputs": []
    },
    {
      "cell_type": "code",
      "metadata": {
        "id": "zFOXYuUCebnQ"
      },
      "source": [
        "genre_train, genre_test, label_train, label_test = train_test_split(text, label, test_size = 0.2)"
      ],
      "execution_count": 10,
      "outputs": []
    },
    {
      "cell_type": "code",
      "metadata": {
        "id": "ifgBBbfDefzI"
      },
      "source": [
        "# Convert to sequences\n",
        "tokenizer = Tokenizer(num_words=5000, oov_token='x')\n",
        "tokenizer.fit_on_texts(genre_train)\n",
        "tokenizer.fit_on_texts(genre_test)\n",
        " \n",
        "sequence_train = tokenizer.texts_to_sequences(genre_train)\n",
        "sequence_test = tokenizer.texts_to_sequences(genre_test)\n",
        " \n",
        "padded_train = pad_sequences(sequence_train)\n",
        "padded_test = pad_sequences(sequence_test)"
      ],
      "execution_count": 11,
      "outputs": []
    },
    {
      "cell_type": "code",
      "metadata": {
        "id": "BGOGJfAyek24"
      },
      "source": [
        "model = Sequential([\n",
        "    Embedding(input_dim=5000, output_dim=16),\n",
        "    BatchNormalization(),\n",
        "    LSTM(64),\n",
        "    Dropout(0.8),\n",
        "    Dense(128, activation='relu', kernel_regularizer=regularizers.l2(0.001)),\n",
        "    Dropout(0.5),\n",
        "    Dense(4, activation='softmax')\n",
        "])\n",
        "\n",
        "model.compile(loss='categorical_crossentropy',optimizer='adam',metrics=['accuracy'])"
      ],
      "execution_count": 12,
      "outputs": []
    },
    {
      "cell_type": "code",
      "metadata": {
        "id": "0yYYcfl9ryR4"
      },
      "source": [
        "# Added callbacks\n",
        "class handleCallback(tf.keras.callbacks.Callback):\n",
        "  def on_epoch_end(self, epoch, logs={}):\n",
        "    if(logs.get('accuracy') >= 0.95 and logs.get('val_accuracy') >= 0.90):\n",
        "      print(\"\\nTrain Accuracy and Val_Accuracy is more than 90%!\")\n",
        "      print(\"\\nTraining stopped...\")\n",
        "      self.model.stop_training = True\n",
        "\n",
        "callbacks = handleCallback()"
      ],
      "execution_count": 13,
      "outputs": []
    },
    {
      "cell_type": "code",
      "metadata": {
        "colab": {
          "base_uri": "https://localhost:8080/"
        },
        "id": "G-i_NTwqemaA",
        "outputId": "1cdb1b0b-ac1b-45d6-d7ba-dfeefe5534f3"
      },
      "source": [
        "num_epochs = 30\n",
        "history = model.fit(padded_train, label_train, \n",
        "                    epochs=num_epochs, \n",
        "                    validation_data=(padded_test, label_test), \n",
        "                    batch_size=32, verbose=2,\n",
        "                    callbacks=[callbacks])"
      ],
      "execution_count": 14,
      "outputs": [
        {
          "output_type": "stream",
          "name": "stdout",
          "text": [
            "Epoch 1/30\n",
            "161/161 - 16s - loss: 1.2333 - accuracy: 0.4497 - val_loss: 1.4280 - val_accuracy: 0.3786\n",
            "Epoch 2/30\n",
            "161/161 - 14s - loss: 0.7452 - accuracy: 0.7426 - val_loss: 1.7956 - val_accuracy: 0.1671\n",
            "Epoch 3/30\n",
            "161/161 - 13s - loss: 0.4358 - accuracy: 0.8653 - val_loss: 0.6062 - val_accuracy: 0.7767\n",
            "Epoch 4/30\n",
            "161/161 - 13s - loss: 0.3566 - accuracy: 0.8819 - val_loss: 0.5295 - val_accuracy: 0.8689\n",
            "Epoch 5/30\n",
            "161/161 - 13s - loss: 0.2651 - accuracy: 0.9037 - val_loss: 0.4535 - val_accuracy: 0.8790\n",
            "Epoch 6/30\n",
            "161/161 - 13s - loss: 0.2315 - accuracy: 0.9125 - val_loss: 0.5009 - val_accuracy: 0.8774\n",
            "Epoch 7/30\n",
            "161/161 - 14s - loss: 0.2025 - accuracy: 0.9162 - val_loss: 0.4398 - val_accuracy: 0.8813\n",
            "Epoch 8/30\n",
            "161/161 - 13s - loss: 0.1944 - accuracy: 0.9182 - val_loss: 0.4635 - val_accuracy: 0.8728\n",
            "Epoch 9/30\n",
            "161/161 - 13s - loss: 0.1952 - accuracy: 0.9225 - val_loss: 0.4462 - val_accuracy: 0.9001\n",
            "Epoch 10/30\n",
            "161/161 - 13s - loss: 0.1564 - accuracy: 0.9539 - val_loss: 0.3867 - val_accuracy: 0.9251\n",
            "\n",
            "Train Accuracy and Val_Accuracy is more than 90%!\n",
            "\n",
            "Training stopped...\n"
          ]
        }
      ]
    },
    {
      "cell_type": "code",
      "metadata": {
        "colab": {
          "base_uri": "https://localhost:8080/",
          "height": 295
        },
        "id": "GdfcF6ylfj85",
        "outputId": "ba82624e-cd36-478a-8905-dbae8db59c55"
      },
      "source": [
        "# Create plot for accuracy and val_accuracy\n",
        "plt.plot(history.history['accuracy'])\n",
        "plt.plot(history.history['val_accuracy'])\n",
        "plt.title('model accuracy')\n",
        "plt.ylabel('accuracy')\n",
        "plt.xlabel('epoch')\n",
        "plt.legend(['train', 'test'], loc='upper right')\n",
        "plt.show()"
      ],
      "execution_count": 15,
      "outputs": [
        {
          "output_type": "display_data",
          "data": {
            "image/png": "[encoded data removed]",
            "text/plain": [
              "<Figure size 432x288 with 1 Axes>"
            ]
          },
          "metadata": {
            "needs_background": "light"
          }
        }
      ]
    },
    {
      "cell_type": "code",
      "metadata": {
        "colab": {
          "base_uri": "https://localhost:8080/",
          "height": 295
        },
        "id": "ywng6ocSfpaZ",
        "outputId": "0dbc896a-6bfc-4824-ab41-475fad0c1a34"
      },
      "source": [
        "# Create plot for loss and val_loss\n",
        "plt.plot(history.history['loss'])\n",
        "plt.plot(history.history['val_loss'])\n",
        "plt.title('val Loss')\n",
        "plt.ylabel('loss')\n",
        "plt.xlabel('epoch') \n",
        "plt.legend(['train', 'test'], loc='upper left')\n",
        "plt.show()"
      ],
      "execution_count": 16,
      "outputs": [
        {
          "output_type": "display_data",
          "data": {
            "image/png": "[encoded data removed]",
            "text/plain": [
              "<Figure size 432x288 with 1 Axes>"
            ]
          },
          "metadata": {
            "needs_background": "light"
          }
        }
      ]
    }
  ]
}
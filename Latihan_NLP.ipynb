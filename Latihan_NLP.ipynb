{
  "nbformat": 4,
  "nbformat_minor": 0,
  "metadata": {
    "colab": {
      "name": "Latihan NLP.ipynb",
      "provenance": [],
      "mount_file_id": "1R4TWBeHwsiXSN2l30P0sqqm2PV8IYYKu",
      "authorship_tag": "ABX9TyOm3A3eqXb2V6jbUHz3SExP",
      "include_colab_link": true
    },
    "kernelspec": {
      "name": "python3",
      "display_name": "Python 3"
    },
    "language_info": {
      "name": "python"
    }
  },
  "cells": [
    {
      "cell_type": "markdown",
      "metadata": {
        "id": "view-in-github",
        "colab_type": "text"
      },
      "source": [
        "<a href=\"https://colab.research.google.com/github/ilhamAdhim/Dicoding---Belajar-Pengembangan-Machine-Learning/blob/main/Latihan_NLP.ipynb\" target=\"_parent\"><img src=\"https://colab.research.google.com/assets/colab-badge.svg\" alt=\"Open In Colab\"/></a>"
      ]
    },
    {
      "cell_type": "markdown",
      "metadata": {
        "id": "UgXPg3OgUMQF"
      },
      "source": [
        "\n",
        "\n",
        "---\n",
        "\n",
        "\n",
        "1. **Tokenization** <br>\n",
        "Tokenization is the first thing to do in NLP, The purpose of tokenization is to give each registered words into a token / number so that it can be identified by the ML model \n"
      ]
    },
    {
      "cell_type": "code",
      "metadata": {
        "id": "dW6DTzl8ShKb"
      },
      "source": [
        "from tensorflow.keras.preprocessing.text import Tokenizer\n",
        "import tensorflow as tf"
      ],
      "execution_count": 24,
      "outputs": []
    },
    {
      "cell_type": "code",
      "metadata": {
        "id": "LujXYRFNSp9O"
      },
      "source": [
        "tokenizer = Tokenizer(num_words= 15, oov_token='-')"
      ],
      "execution_count": 2,
      "outputs": []
    },
    {
      "cell_type": "code",
      "metadata": {
        "id": "3YHFmaw0St2N"
      },
      "source": [
        "teks = ['Saya suka programming',\n",
        "        'Programming sangat menyenangkan!',\n",
        "        'Machine Learning berbeda dengan pemrograman konvensional']"
      ],
      "execution_count": 3,
      "outputs": []
    },
    {
      "cell_type": "code",
      "metadata": {
        "id": "7EjlXAeYSv9F"
      },
      "source": [
        "tokenizer.fit_on_texts(teks)"
      ],
      "execution_count": 4,
      "outputs": []
    },
    {
      "cell_type": "code",
      "metadata": {
        "id": "sqJqicQ2SySW"
      },
      "source": [
        "sequences = tokenizer.texts_to_sequences(teks)"
      ],
      "execution_count": 5,
      "outputs": []
    },
    {
      "cell_type": "code",
      "metadata": {
        "colab": {
          "base_uri": "https://localhost:8080/"
        },
        "id": "oHd7lpBkS77N",
        "outputId": "a2fadc3a-845e-45a6-f3fd-4a20f08a6297"
      },
      "source": [
        "print(\"ini hasil tokenisasi : \", tokenizer.word_index)"
      ],
      "execution_count": 20,
      "outputs": [
        {
          "output_type": "stream",
          "name": "stdout",
          "text": [
            "ini hasil tokenisasi :  {'-': 1, 'programming': 2, 'saya': 3, 'suka': 4, 'sangat': 5, 'menyenangkan': 6, 'machine': 7, 'learning': 8, 'berbeda': 9, 'dengan': 10, 'pemrograman': 11, 'konvensional': 12}\n"
          ]
        }
      ]
    },
    {
      "cell_type": "code",
      "metadata": {
        "colab": {
          "base_uri": "https://localhost:8080/"
        },
        "id": "p9hG_4BNTa6P",
        "outputId": "602f3352-444a-488b-bc76-5a2821c09a20"
      },
      "source": [
        "from tensorflow.keras.preprocessing.sequence import pad_sequences\n",
        "sequences_samapanjang = pad_sequences(sequences)\n",
        "print(sequences_samapanjang)"
      ],
      "execution_count": 12,
      "outputs": [
        {
          "output_type": "stream",
          "name": "stdout",
          "text": [
            "[[ 0  0  0  3  4  2]\n",
            " [ 0  0  0  2  5  6]\n",
            " [ 7  8  9 10 11 12]]\n"
          ]
        }
      ]
    },
    {
      "cell_type": "code",
      "metadata": {
        "id": "B-KkE1OBTf3C"
      },
      "source": [
        "sequences_samapanjang = pad_sequences(sequences, \n",
        "                                      padding='post',\n",
        "                                      maxlen=7)\n",
        "\n",
        "sequences_samapanjangtruncate = pad_sequences(sequences, \n",
        "                                      padding='post',\n",
        "                                      maxlen=7,\n",
        "                                      truncating='post')"
      ],
      "execution_count": 17,
      "outputs": []
    },
    {
      "cell_type": "code",
      "metadata": {
        "colab": {
          "base_uri": "https://localhost:8080/"
        },
        "id": "y5S8fyiTTsY-",
        "outputId": "c7de3d91-4bda-4bd1-97e4-9bf0a7932db3"
      },
      "source": [
        "print(sequences_samapanjangtruncate)"
      ],
      "execution_count": 16,
      "outputs": [
        {
          "output_type": "stream",
          "name": "stdout",
          "text": [
            "[[ 3  4  2  0  0]\n",
            " [ 2  5  6  0  0]\n",
            " [ 7  8  9 10 11]]\n"
          ]
        }
      ]
    },
    {
      "cell_type": "code",
      "metadata": {
        "colab": {
          "base_uri": "https://localhost:8080/"
        },
        "id": "OlCGygH4Tuxp",
        "outputId": "6d477cb9-6388-4332-db13-517fbe74e998"
      },
      "source": [
        "print(sequences_samapanjang)\n"
      ],
      "execution_count": 18,
      "outputs": [
        {
          "output_type": "stream",
          "name": "stdout",
          "text": [
            "[[ 3  4  2  0  0  0  0]\n",
            " [ 2  5  6  0  0  0  0]\n",
            " [ 7  8  9 10 11 12  0]]\n"
          ]
        }
      ]
    },
    {
      "cell_type": "markdown",
      "metadata": {
        "id": "afySdN7wUQ8m"
      },
      "source": [
        "\n",
        "\n",
        "---\n",
        "\n",
        "2. **Embedding** <br>\n",
        "Embedding plays role as a text classification. This can be done by mapping the text into vector or lines. The similar words will have similar vector value too.  "
      ]
    },
    {
      "cell_type": "code",
      "metadata": {
        "id": "mVkL4WzcWgJ2"
      },
      "source": [
        "# model = tf.keras.Sequential([\n",
        "#     tf.keras.layers.Embedding(jumlah_kata, dimensi_embedding, panjang_input),\n",
        "#     tf.keras.layers.Flatten(),\n",
        "#     tf.keras.layers.Dense(24, activation='relu'),\n",
        "#     tf.keras.layers.Dense(1, activation='sigmoid')\n",
        "# ])"
      ],
      "execution_count": 29,
      "outputs": []
    },
    {
      "cell_type": "code",
      "metadata": {
        "id": "LEgTIXnfWsNm"
      },
      "source": [
        "# model.compile(loss='categorical_crossentropy',\n",
        "#               optimizer='adam',\n",
        "#               metrics=['accuracy'])"
      ],
      "execution_count": 28,
      "outputs": []
    },
    {
      "cell_type": "code",
      "metadata": {
        "id": "h4oWfRa_WvfO"
      },
      "source": [
        "# num_epochs = 30\n",
        "# model.fit(padded_latih, label_latih, \n",
        "#           epochs=num_epochs, \n",
        "#           validation_data=(padded_test, label_test))"
      ],
      "execution_count": 27,
      "outputs": []
    },
    {
      "cell_type": "markdown",
      "metadata": {
        "id": "-Ep6aBGWXqfl"
      },
      "source": [
        "\n",
        "\n",
        "---\n",
        "\n",
        "**Praktek - Binary Text Classification**\n"
      ]
    },
    {
      "cell_type": "code",
      "metadata": {
        "colab": {
          "base_uri": "https://localhost:8080/"
        },
        "id": "OxQhen08XxkR",
        "outputId": "6322f862-e361-4b93-c115-05ece9c0703e"
      },
      "source": [
        "import pandas as pd\n",
        "df = pd.read_csv('/content/drive/MyDrive/Dicoding - NLP - Sentiment Analysis /yelp_labelled.txt', names=['sentence', 'label'], sep='\\t')\n",
        "print(df)"
      ],
      "execution_count": 32,
      "outputs": [
        {
          "output_type": "stream",
          "name": "stdout",
          "text": [
            "                                              sentence  label\n",
            "0                             Wow... Loved this place.      1\n",
            "1                                   Crust is not good.      0\n",
            "2            Not tasty and the texture was just nasty.      0\n",
            "3    Stopped by during the late May bank holiday of...      1\n",
            "4    The selection on the menu was great and so wer...      1\n",
            "..                                                 ...    ...\n",
            "995  I think food should have flavor and texture an...      0\n",
            "996                           Appetite instantly gone.      0\n",
            "997  Overall I was not impressed and would not go b...      0\n",
            "998  The whole experience was underwhelming, and I ...      0\n",
            "999  Then, as if I hadn't wasted enough of my life ...      0\n",
            "\n",
            "[1000 rows x 2 columns]\n"
          ]
        }
      ]
    },
    {
      "cell_type": "code",
      "metadata": {
        "colab": {
          "base_uri": "https://localhost:8080/",
          "height": 203
        },
        "id": "IbB3wd8wX5dt",
        "outputId": "75622a8b-2734-4ded-9c79-1573d06ffd50"
      },
      "source": [
        "# Lihat 5 row data sample terakhir\n",
        "df.tail()"
      ],
      "execution_count": 35,
      "outputs": [
        {
          "output_type": "execute_result",
          "data": {
            "text/html": [
              "<div>\n",
              "<style scoped>\n",
              "    .dataframe tbody tr th:only-of-type {\n",
              "        vertical-align: middle;\n",
              "    }\n",
              "\n",
              "    .dataframe tbody tr th {\n",
              "        vertical-align: top;\n",
              "    }\n",
              "\n",
              "    .dataframe thead th {\n",
              "        text-align: right;\n",
              "    }\n",
              "</style>\n",
              "<table border=\"1\" class=\"dataframe\">\n",
              "  <thead>\n",
              "    <tr style=\"text-align: right;\">\n",
              "      <th></th>\n",
              "      <th>sentence</th>\n",
              "      <th>label</th>\n",
              "    </tr>\n",
              "  </thead>\n",
              "  <tbody>\n",
              "    <tr>\n",
              "      <th>995</th>\n",
              "      <td>I think food should have flavor and texture an...</td>\n",
              "      <td>0</td>\n",
              "    </tr>\n",
              "    <tr>\n",
              "      <th>996</th>\n",
              "      <td>Appetite instantly gone.</td>\n",
              "      <td>0</td>\n",
              "    </tr>\n",
              "    <tr>\n",
              "      <th>997</th>\n",
              "      <td>Overall I was not impressed and would not go b...</td>\n",
              "      <td>0</td>\n",
              "    </tr>\n",
              "    <tr>\n",
              "      <th>998</th>\n",
              "      <td>The whole experience was underwhelming, and I ...</td>\n",
              "      <td>0</td>\n",
              "    </tr>\n",
              "    <tr>\n",
              "      <th>999</th>\n",
              "      <td>Then, as if I hadn't wasted enough of my life ...</td>\n",
              "      <td>0</td>\n",
              "    </tr>\n",
              "  </tbody>\n",
              "</table>\n",
              "</div>"
            ],
            "text/plain": [
              "                                              sentence  label\n",
              "995  I think food should have flavor and texture an...      0\n",
              "996                           Appetite instantly gone.      0\n",
              "997  Overall I was not impressed and would not go b...      0\n",
              "998  The whole experience was underwhelming, and I ...      0\n",
              "999  Then, as if I hadn't wasted enough of my life ...      0"
            ]
          },
          "metadata": {},
          "execution_count": 35
        }
      ]
    },
    {
      "cell_type": "code",
      "metadata": {
        "id": "TTxZIwRCYEVA"
      },
      "source": [
        "# Membagi 1000 dataset ke training set dan test set\n",
        "from sklearn.model_selection import train_test_split\n",
        "kalimat = df['sentence'].values\n",
        "y = df['label'].values\n",
        "kalimat_latih, kalimat_test, y_latih, y_test = train_test_split(kalimat, y, test_size=0.2)"
      ],
      "execution_count": 36,
      "outputs": []
    },
    {
      "cell_type": "code",
      "metadata": {
        "id": "LdnoX63uYJg4"
      },
      "source": [
        "\"\"\"\n",
        "Agar teks dapat dipahami oleh model, kita harus lakukan tokenisasi. \n",
        "Gunakan fungsi tokenizer pada data latih dan data test. \n",
        "Jangan lupa gunakan fungsi pad_sequences agar setiap sequence sama panjang.\n",
        "\"\"\"\n",
        "from tensorflow.keras.preprocessing.text import Tokenizer\n",
        "from tensorflow.keras.preprocessing.sequence import pad_sequences\n",
        " \n",
        "tokenizer = Tokenizer(num_words=250, oov_token='x')\n",
        "tokenizer.fit_on_texts(kalimat_latih) \n",
        "tokenizer.fit_on_texts(kalimat_test)\n",
        " \n",
        "sekuens_latih = tokenizer.texts_to_sequences(kalimat_latih)\n",
        "sekuens_test = tokenizer.texts_to_sequences(kalimat_test)\n",
        " \n",
        "padded_latih = pad_sequences(sekuens_latih) \n",
        "padded_test = pad_sequences(sekuens_test)"
      ],
      "execution_count": 38,
      "outputs": []
    },
    {
      "cell_type": "code",
      "metadata": {
        "id": "grfnAcjmYTVl"
      },
      "source": [
        "# Pembuatan model untuk training data, Lebih cocok menggunakan GlobalAveragePooling1D dibanding Flatten untuk case NLP.\n",
        "import tensorflow as tf\n",
        "model = tf.keras.Sequential([\n",
        "    tf.keras.layers.Embedding(250, 16, input_length=20),\n",
        "    tf.keras.layers.GlobalAveragePooling1D(),\n",
        "    tf.keras.layers.Dense(24, activation='relu'),\n",
        "    tf.keras.layers.Dense(1, activation='sigmoid')\n",
        "])\n",
        "model.compile(loss='binary_crossentropy',optimizer='adam',metrics=['accuracy'])"
      ],
      "execution_count": 39,
      "outputs": []
    },
    {
      "cell_type": "code",
      "metadata": {
        "colab": {
          "base_uri": "https://localhost:8080/"
        },
        "id": "yRDCFK6BYmv9",
        "outputId": "03822c74-efc9-48f6-a1b4-71112ff09ade"
      },
      "source": [
        "num_epochs = 30\n",
        "history = model.fit(padded_latih, y_latih, epochs=num_epochs, \n",
        "                    validation_data=(padded_test, y_test), verbose=2)"
      ],
      "execution_count": 40,
      "outputs": [
        {
          "output_type": "stream",
          "name": "stdout",
          "text": [
            "Epoch 1/30\n",
            "WARNING:tensorflow:Model was constructed with shape (None, 20) for input KerasTensor(type_spec=TensorSpec(shape=(None, 20), dtype=tf.float32, name='embedding_input'), name='embedding_input', description=\"created by layer 'embedding_input'\"), but it was called on an input with incompatible shape (32, 31).\n",
            "WARNING:tensorflow:Model was constructed with shape (None, 20) for input KerasTensor(type_spec=TensorSpec(shape=(None, 20), dtype=tf.float32, name='embedding_input'), name='embedding_input', description=\"created by layer 'embedding_input'\"), but it was called on an input with incompatible shape (32, 31).\n",
            "WARNING:tensorflow:Model was constructed with shape (None, 20) for input KerasTensor(type_spec=TensorSpec(shape=(None, 20), dtype=tf.float32, name='embedding_input'), name='embedding_input', description=\"created by layer 'embedding_input'\"), but it was called on an input with incompatible shape (None, 32).\n",
            "25/25 - 1s - loss: 0.6927 - accuracy: 0.5288 - val_loss: 0.6929 - val_accuracy: 0.4700\n",
            "Epoch 2/30\n",
            "25/25 - 0s - loss: 0.6902 - accuracy: 0.6050 - val_loss: 0.6912 - val_accuracy: 0.5450\n",
            "Epoch 3/30\n",
            "25/25 - 0s - loss: 0.6869 - accuracy: 0.6288 - val_loss: 0.6888 - val_accuracy: 0.5550\n",
            "Epoch 4/30\n",
            "25/25 - 0s - loss: 0.6811 - accuracy: 0.6587 - val_loss: 0.6846 - val_accuracy: 0.5950\n",
            "Epoch 5/30\n",
            "25/25 - 0s - loss: 0.6729 - accuracy: 0.6762 - val_loss: 0.6793 - val_accuracy: 0.5900\n",
            "Epoch 6/30\n",
            "25/25 - 0s - loss: 0.6628 - accuracy: 0.6925 - val_loss: 0.6711 - val_accuracy: 0.6300\n",
            "Epoch 7/30\n",
            "25/25 - 0s - loss: 0.6489 - accuracy: 0.7000 - val_loss: 0.6620 - val_accuracy: 0.6300\n",
            "Epoch 8/30\n",
            "25/25 - 0s - loss: 0.6307 - accuracy: 0.7312 - val_loss: 0.6524 - val_accuracy: 0.6700\n",
            "Epoch 9/30\n",
            "25/25 - 0s - loss: 0.6099 - accuracy: 0.7450 - val_loss: 0.6356 - val_accuracy: 0.6750\n",
            "Epoch 10/30\n",
            "25/25 - 0s - loss: 0.5866 - accuracy: 0.7613 - val_loss: 0.6203 - val_accuracy: 0.7100\n",
            "Epoch 11/30\n",
            "25/25 - 0s - loss: 0.5593 - accuracy: 0.7925 - val_loss: 0.6081 - val_accuracy: 0.7350\n",
            "Epoch 12/30\n",
            "25/25 - 0s - loss: 0.5310 - accuracy: 0.8175 - val_loss: 0.5866 - val_accuracy: 0.7250\n",
            "Epoch 13/30\n",
            "25/25 - 0s - loss: 0.5023 - accuracy: 0.8238 - val_loss: 0.5672 - val_accuracy: 0.7200\n",
            "Epoch 14/30\n",
            "25/25 - 0s - loss: 0.4746 - accuracy: 0.8150 - val_loss: 0.5763 - val_accuracy: 0.7450\n",
            "Epoch 15/30\n",
            "25/25 - 0s - loss: 0.4528 - accuracy: 0.8300 - val_loss: 0.5390 - val_accuracy: 0.7150\n",
            "Epoch 16/30\n",
            "25/25 - 0s - loss: 0.4348 - accuracy: 0.8350 - val_loss: 0.5271 - val_accuracy: 0.7150\n",
            "Epoch 17/30\n",
            "25/25 - 0s - loss: 0.4074 - accuracy: 0.8475 - val_loss: 0.5318 - val_accuracy: 0.7450\n",
            "Epoch 18/30\n",
            "25/25 - 0s - loss: 0.3898 - accuracy: 0.8462 - val_loss: 0.5213 - val_accuracy: 0.7250\n",
            "Epoch 19/30\n",
            "25/25 - 0s - loss: 0.3731 - accuracy: 0.8525 - val_loss: 0.5131 - val_accuracy: 0.7350\n",
            "Epoch 20/30\n",
            "25/25 - 0s - loss: 0.3602 - accuracy: 0.8587 - val_loss: 0.5072 - val_accuracy: 0.7500\n",
            "Epoch 21/30\n",
            "25/25 - 0s - loss: 0.3486 - accuracy: 0.8612 - val_loss: 0.5132 - val_accuracy: 0.7400\n",
            "Epoch 22/30\n",
            "25/25 - 0s - loss: 0.3348 - accuracy: 0.8587 - val_loss: 0.5163 - val_accuracy: 0.7550\n",
            "Epoch 23/30\n",
            "25/25 - 0s - loss: 0.3276 - accuracy: 0.8687 - val_loss: 0.5118 - val_accuracy: 0.7600\n",
            "Epoch 24/30\n",
            "25/25 - 0s - loss: 0.3180 - accuracy: 0.8750 - val_loss: 0.5085 - val_accuracy: 0.7400\n",
            "Epoch 25/30\n",
            "25/25 - 0s - loss: 0.3089 - accuracy: 0.8712 - val_loss: 0.5472 - val_accuracy: 0.7550\n",
            "Epoch 26/30\n",
            "25/25 - 0s - loss: 0.3066 - accuracy: 0.8712 - val_loss: 0.5139 - val_accuracy: 0.7300\n",
            "Epoch 27/30\n",
            "25/25 - 0s - loss: 0.2950 - accuracy: 0.8825 - val_loss: 0.5122 - val_accuracy: 0.7450\n",
            "Epoch 28/30\n",
            "25/25 - 0s - loss: 0.2975 - accuracy: 0.8750 - val_loss: 0.5239 - val_accuracy: 0.7600\n",
            "Epoch 29/30\n",
            "25/25 - 0s - loss: 0.2847 - accuracy: 0.8850 - val_loss: 0.5257 - val_accuracy: 0.7650\n",
            "Epoch 30/30\n",
            "25/25 - 0s - loss: 0.2814 - accuracy: 0.8813 - val_loss: 0.5426 - val_accuracy: 0.7550\n"
          ]
        }
      ]
    },
    {
      "cell_type": "code",
      "metadata": {
        "colab": {
          "base_uri": "https://localhost:8080/",
          "height": 312
        },
        "id": "Yh3nbCC9Ytdl",
        "outputId": "40bbe8b0-c646-4228-acda-1712bd40bbb8"
      },
      "source": [
        "# list all data in history\n",
        "print(history.history.keys())\n",
        "\n",
        "import matplotlib.pyplot as plt\n",
        "\n",
        "plt.plot(history.history['accuracy'])\n",
        "plt.plot(history.history['val_accuracy'])\n",
        "plt.title('model accuracy')\n",
        "plt.ylabel('accuracy')\n",
        "plt.xlabel('epoch')\n",
        "plt.legend(['train', 'test'], loc='upper left')\n",
        "plt.show()"
      ],
      "execution_count": 44,
      "outputs": [
        {
          "output_type": "stream",
          "name": "stdout",
          "text": [
            "dict_keys(['loss', 'accuracy', 'val_loss', 'val_accuracy'])\n"
          ]
        },
        {
          "output_type": "display_data",
          "data": {
            "image/png": "[encoded data removed]",
            "text/plain": [
              "<Figure size 432x288 with 1 Axes>"
            ]
          },
          "metadata": {
            "needs_background": "light"
          }
        }
      ]
    },
    {
      "cell_type": "code",
      "metadata": {
        "colab": {
          "base_uri": "https://localhost:8080/",
          "height": 295
        },
        "id": "LrW62OxAZR--",
        "outputId": "35b6c1a3-20e2-4ff9-afa6-7d2731a0f68c"
      },
      "source": [
        "\n",
        "plt.plot(history.history['loss'])\n",
        "plt.plot(history.history['val_loss'])\n",
        "plt.title('val Loss')\n",
        "plt.ylabel('loss')\n",
        "plt.xlabel('epoch') \n",
        "plt.legend(['train', 'test'], loc='upper left')\n",
        "plt.show()"
      ],
      "execution_count": 46,
      "outputs": [
        {
          "output_type": "display_data",
          "data": {
            "image/png": "[encoded data removed]",
            "text/plain": [
              "<Figure size 432x288 with 1 Axes>"
            ]
          },
          "metadata": {
            "needs_background": "light"
          }
        }
      ]
    }
  ]
}